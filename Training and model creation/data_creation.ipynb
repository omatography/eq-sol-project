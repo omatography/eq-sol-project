{
 "cells": [
  {
   "cell_type": "markdown",
   "metadata": {},
   "source": [
    "## important libraries"
   ]
  },
  {
   "cell_type": "code",
   "execution_count": 1,
   "metadata": {
    "scrolled": false
   },
   "outputs": [],
   "source": [
    "import numpy as np\n",
    "import pandas as pd\n",
    "import matplotlib.pyplot as plt\n",
    "import os\n",
    "import cv2\n",
    "from os import listdir\n",
    "from os.path import isfile,join\n",
    "from PIL import Image"
   ]
  },
  {
   "cell_type": "markdown",
   "metadata": {},
   "source": [
    "## create load image function"
   ]
  },
  {
   "cell_type": "code",
   "execution_count": 2,
   "metadata": {},
   "outputs": [],
   "source": [
    "def load_images_from_folder(folder):\n",
    "    train_data = []\n",
    "    for filename in os.listdir(folder):\n",
    "        img=cv2.imread(os.path.join(folder,filename),cv2.IMREAD_GRAYSCALE)\n",
    "        img=~img\n",
    "        _,thresh=cv2.threshold(img,127,255,cv2.THRESH_BINARY)\n",
    "        ctrs,_=cv2.findContours(thresh,cv2.RETR_EXTERNAL,cv2.CHAIN_APPROX_NONE)\n",
    "        cnt=sorted(ctrs,key=lambda ctr:cv2.boundingRect(ctr)[0])\n",
    "        w=int(28)\n",
    "        h=int(28)\n",
    "        maxi=0\n",
    "        for c in cnt:\n",
    "            x,y,w,h=cv2.boundingRect(c)\n",
    "            maxi=max(w*h,maxi)\n",
    "            if maxi==w*h:\n",
    "                x_max=x\n",
    "                y_max=y\n",
    "                h_max=h\n",
    "                w_max=w\n",
    "        im_crop=thresh[y_max:y_max+h_max+10,x_max:x_max+w_max+10]\n",
    "        im_resize=cv2.resize(im_crop,(28,28))\n",
    "        im_resize=np.reshape(im_resize,(784,1))\n",
    "        \n",
    "        train_data.append(im_resize)\n",
    "    return train_data"
   ]
  },
  {
   "cell_type": "markdown",
   "metadata": {},
   "source": [
    "## load the dataset"
   ]
  },
  {
   "cell_type": "code",
   "execution_count": 3,
   "metadata": {},
   "outputs": [],
   "source": [
    "data=[]"
   ]
  },
  {
   "cell_type": "code",
   "execution_count": 4,
   "metadata": {},
   "outputs": [
    {
     "name": "stdout",
     "output_type": "stream",
     "text": [
      "4152\n"
     ]
    }
   ],
   "source": [
    "# assign \"-\" 10\n",
    "data = load_images_from_folder(\"C:/Users/aksha/OneDrive/Documents/GitHub/Eq-sol/data/-\")\n",
    "len(data)\n",
    "for i in range(0,len(data)):\n",
    "    data[i]=np.append(data[i],[\"10\"])  # adding label to the data\n",
    "print(len(data))\n",
    "    "
   ]
  },
  {
   "cell_type": "code",
   "execution_count": 5,
   "metadata": {},
   "outputs": [
    {
     "name": "stdout",
     "output_type": "stream",
     "text": [
      "8184\n"
     ]
    }
   ],
   "source": [
    "# assign \"+\" 11\n",
    "data0 = load_images_from_folder(\"C:/Users/aksha/OneDrive/Documents/GitHub/Eq-sol/data/+\")\n",
    "len(data)\n",
    "for i in range(0,len(data0)):\n",
    "    data0[i]=np.append(data0[i],[\"11\"]) # adding label to the data\n",
    "data=np.concatenate((data,data0))\n",
    "print(len(data))"
   ]
  },
  {
   "cell_type": "code",
   "execution_count": 6,
   "metadata": {},
   "outputs": [
    {
     "name": "stdout",
     "output_type": "stream",
     "text": [
      "12317\n"
     ]
    }
   ],
   "source": [
    "# assign \"0\" \n",
    "data1 = load_images_from_folder(\"C:/Users/aksha/OneDrive/Documents/GitHub/Eq-sol/data/0\")\n",
    "len(data)\n",
    "for i in range(0,len(data1)):\n",
    "    data1[i]=np.append(data1[i],[\"0\"])  # adding label to the data\n",
    "data=np.concatenate((data,data1))\n",
    "print(len(data))"
   ]
  },
  {
   "cell_type": "code",
   "execution_count": 7,
   "metadata": {},
   "outputs": [
    {
     "name": "stdout",
     "output_type": "stream",
     "text": [
      "16373\n"
     ]
    }
   ],
   "source": [
    "# assign \"1\" \n",
    "data2 = load_images_from_folder(\"C:/Users/aksha/OneDrive/Documents/GitHub/Eq-sol/data/1\")\n",
    "len(data)\n",
    "for i in range(0,len(data2)):\n",
    "    data2[i]=np.append(data2[i],[\"1\"])  # adding label to the data\n",
    "data=np.concatenate((data,data2))\n",
    "print(len(data))"
   ]
  },
  {
   "cell_type": "code",
   "execution_count": 8,
   "metadata": {},
   "outputs": [
    {
     "name": "stdout",
     "output_type": "stream",
     "text": [
      "20633\n"
     ]
    }
   ],
   "source": [
    "# assign \"2\" \n",
    "data3 = load_images_from_folder(\"C:/Users/aksha/OneDrive/Documents/GitHub/Eq-sol/data/2\")\n",
    "len(data)\n",
    "for i in range(0,len(data3)):\n",
    "    data3[i]=np.append(data3[i],[\"2\"])  # adding label to the data\n",
    "data=np.concatenate((data,data3))\n",
    "print(len(data))"
   ]
  },
  {
   "cell_type": "code",
   "execution_count": 9,
   "metadata": {},
   "outputs": [
    {
     "name": "stdout",
     "output_type": "stream",
     "text": [
      "24149\n"
     ]
    }
   ],
   "source": [
    "# assign \"3\" \n",
    "data4 = load_images_from_folder(\"C:/Users/aksha/OneDrive/Documents/GitHub/Eq-sol/data/3\")\n",
    "len(data)\n",
    "for i in range(0,len(data4)):\n",
    "    data4[i]=np.append(data4[i],[\"3\"])  # adding label to the data\n",
    "data=np.concatenate((data,data4))\n",
    "print(len(data))"
   ]
  },
  {
   "cell_type": "code",
   "execution_count": 10,
   "metadata": {},
   "outputs": [
    {
     "name": "stdout",
     "output_type": "stream",
     "text": [
      "28181\n"
     ]
    }
   ],
   "source": [
    "# assign \"4\" \n",
    "data5 = load_images_from_folder(\"C:/Users/aksha/OneDrive/Documents/GitHub/Eq-sol/data/4\")\n",
    "len(data)\n",
    "for i in range(0,len(data5)):\n",
    "    data5[i]=np.append(data5[i],[\"4\"])  # adding label to the data\n",
    "data=np.concatenate((data,data5))\n",
    "print(len(data))"
   ]
  },
  {
   "cell_type": "code",
   "execution_count": 11,
   "metadata": {},
   "outputs": [
    {
     "name": "stdout",
     "output_type": "stream",
     "text": [
      "31725\n"
     ]
    }
   ],
   "source": [
    "# assign \"5\" \n",
    "data6 = load_images_from_folder(\"C:/Users/aksha/OneDrive/Documents/GitHub/Eq-sol/data/5\")\n",
    "len(data)\n",
    "for i in range(0,len(data6)):\n",
    "    data6[i]=np.append(data6[i],[\"5\"])  # adding label to the data\n",
    "data=np.concatenate((data,data6))\n",
    "print(len(data))"
   ]
  },
  {
   "cell_type": "code",
   "execution_count": 12,
   "metadata": {},
   "outputs": [
    {
     "name": "stdout",
     "output_type": "stream",
     "text": [
      "34842\n"
     ]
    }
   ],
   "source": [
    "# assign \"6\" \n",
    "data7 = load_images_from_folder(\"C:/Users/aksha/OneDrive/Documents/GitHub/Eq-sol/data/6\")\n",
    "len(data)\n",
    "for i in range(0,len(data7)):\n",
    "    data7[i]=np.append(data7[i],[\"6\"])  # adding label to the data\n",
    "data=np.concatenate((data,data7))\n",
    "print(len(data))"
   ]
  },
  {
   "cell_type": "code",
   "execution_count": 13,
   "metadata": {},
   "outputs": [
    {
     "name": "stdout",
     "output_type": "stream",
     "text": [
      "37750\n"
     ]
    }
   ],
   "source": [
    "# assign \"7\" \n",
    "data8 = load_images_from_folder(\"C:/Users/aksha/OneDrive/Documents/GitHub/Eq-sol/data/7\")\n",
    "len(data)\n",
    "for i in range(0,len(data8)):\n",
    "    data8[i]=np.append(data8[i],[\"7\"])  # adding label to the data\n",
    "data=np.concatenate((data,data8))\n",
    "print(len(data))"
   ]
  },
  {
   "cell_type": "code",
   "execution_count": 14,
   "metadata": {},
   "outputs": [
    {
     "name": "stdout",
     "output_type": "stream",
     "text": [
      "40817\n"
     ]
    }
   ],
   "source": [
    "# assign \"8\" \n",
    "data9 = load_images_from_folder(\"C:/Users/aksha/OneDrive/Documents/GitHub/Eq-sol/data/8\")\n",
    "len(data)\n",
    "for i in range(0,len(data9)):\n",
    "    data9[i]=np.append(data9[i],[\"8\"])  # adding label to the data\n",
    "data=np.concatenate((data,data9))\n",
    "print(len(data))"
   ]
  },
  {
   "cell_type": "code",
   "execution_count": 15,
   "metadata": {},
   "outputs": [
    {
     "name": "stdout",
     "output_type": "stream",
     "text": [
      "44553\n"
     ]
    }
   ],
   "source": [
    "# assign \"9\" \n",
    "data10 = load_images_from_folder(\"C:/Users/aksha/OneDrive/Documents/GitHub/Eq-sol/data/9\")\n",
    "len(data)\n",
    "for i in range(0,len(data10)):\n",
    "    data10[i]=np.append(data10[i],[\"9\"])  # adding label to the data\n",
    "data=np.concatenate((data,data10))\n",
    "print(len(data))"
   ]
  },
  {
   "cell_type": "code",
   "execution_count": 16,
   "metadata": {},
   "outputs": [
    {
     "name": "stdout",
     "output_type": "stream",
     "text": [
      "47803\n"
     ]
    }
   ],
   "source": [
    "# assign \"times\" \n",
    "data11 = load_images_from_folder(\"C:/Users/aksha/OneDrive/Documents/GitHub/Eq-sol/data/times\")\n",
    "len(data)\n",
    "for i in range(0,len(data11)):\n",
    "    data11[i]=np.append(data11[i],[\"12\"])  # adding label to the data\n",
    "data=np.concatenate((data,data11))\n",
    "print(len(data))"
   ]
  },
  {
   "cell_type": "code",
   "execution_count": 17,
   "metadata": {},
   "outputs": [
    {
     "data": {
      "text/plain": [
       "'\\'# assign \"y\" \\ndata12 = load_images_from_folder(\"C:/Users/aksha/OneDrive/Documents/GitHub/Eq-sol/data/-\")\\nlen(data)\\nfor i in range(0,len(data12)):\\n    data12[i]=np.append(data12[i],[\"13\"])  # adding label to the data\\ndata=np.concatenate((data,data12))\\nprint(len(data))'"
      ]
     },
     "execution_count": 17,
     "metadata": {},
     "output_type": "execute_result"
    }
   ],
   "source": [
    "''''# assign \"y\" \n",
    "data12 = load_images_from_folder(\"C:/Users/aksha/OneDrive/Documents/GitHub/Eq-sol/data/-\")\n",
    "len(data)\n",
    "for i in range(0,len(data12)):\n",
    "    data12[i]=np.append(data12[i],[\"13\"])  # adding label to the data\n",
    "data=np.concatenate((data,data12))\n",
    "print(len(data))'''"
   ]
  },
  {
   "cell_type": "code",
   "execution_count": 18,
   "metadata": {},
   "outputs": [
    {
     "data": {
      "text/plain": [
       "'# assign \"(\" \\ndata13 = load_images_from_folder(\"C:/Users/aksha/OneDrive/Documents/GitHub/Eq-sol/data/-\")\\nlen(data)\\nfor i in range(0,len(data13)):\\n    data13[i]=np.append(data13[i],[\"14\"])  # adding label to the data\\ndata=np.concatenate((data,data13))\\nprint(len(data))'"
      ]
     },
     "execution_count": 18,
     "metadata": {},
     "output_type": "execute_result"
    }
   ],
   "source": [
    "'''# assign \"(\" \n",
    "data13 = load_images_from_folder(\"C:/Users/aksha/OneDrive/Documents/GitHub/Eq-sol/data/-\")\n",
    "len(data)\n",
    "for i in range(0,len(data13)):\n",
    "    data13[i]=np.append(data13[i],[\"14\"])  # adding label to the data\n",
    "data=np.concatenate((data,data13))\n",
    "print(len(data))'''"
   ]
  },
  {
   "cell_type": "code",
   "execution_count": 19,
   "metadata": {},
   "outputs": [
    {
     "data": {
      "text/plain": [
       "'# assign \")\" \\ndata14 = load_images_from_folder(\"C:/Users/aksha/OneDrive/Documents/GitHub/Eq-sol/data/-\")\\nlen(data)\\nfor i in range(0,len(data14)):\\n    data14[i]=np.append(data14[i],[\"15\"])  # adding label to the data\\ndata=np.concatenate((data,data14))\\nprint(len(data))'"
      ]
     },
     "execution_count": 19,
     "metadata": {},
     "output_type": "execute_result"
    }
   ],
   "source": [
    "'''# assign \")\" \n",
    "data14 = load_images_from_folder(\"C:/Users/aksha/OneDrive/Documents/GitHub/Eq-sol/data/-\")\n",
    "len(data)\n",
    "for i in range(0,len(data14)):\n",
    "    data14[i]=np.append(data14[i],[\"15\"])  # adding label to the data\n",
    "data=np.concatenate((data,data14))\n",
    "print(len(data))'''"
   ]
  },
  {
   "cell_type": "code",
   "execution_count": 20,
   "metadata": {},
   "outputs": [
    {
     "name": "stdout",
     "output_type": "stream",
     "text": [
      "52015\n"
     ]
    }
   ],
   "source": [
    "# assign \"x\" \n",
    "data12 = load_images_from_folder(\"C:/Users/aksha/OneDrive/Documents/GitHub/Eq-sol/data/x\")\n",
    "len(data)\n",
    "for i in range(0,len(data12)):\n",
    "    data12[i]=np.append(data12[i],[\"13\"])  # adding label to the data\n",
    "data=np.concatenate((data,data12))\n",
    "print(len(data))"
   ]
  },
  {
   "cell_type": "code",
   "execution_count": 21,
   "metadata": {},
   "outputs": [
    {
     "data": {
      "text/plain": [
       "'# assign \"x\" \\ndata16 = load_images_from_folder(\"C:/Users/aksha/OneDrive/Desktop/project_final/data/data/x\")\\nlen(data)\\nfor i in range(0,len(data16)):\\n    data16[i]=np.append(data16[i],[\"17\"])  # adding label to the data\\ndata=np.concatenate((data,data16))\\nprint(len(data))'"
      ]
     },
     "execution_count": 21,
     "metadata": {},
     "output_type": "execute_result"
    }
   ],
   "source": [
    "'''# assign \"x\" \n",
    "data16 = load_images_from_folder(\"C:/Users/aksha/OneDrive/Desktop/project_final/data/data/x\")\n",
    "len(data)\n",
    "for i in range(0,len(data16)):\n",
    "    data16[i]=np.append(data16[i],[\"17\"])  # adding label to the data\n",
    "data=np.concatenate((data,data16))\n",
    "print(len(data))'''"
   ]
  },
  {
   "cell_type": "code",
   "execution_count": 22,
   "metadata": {},
   "outputs": [],
   "source": [
    "df=pd.DataFrame(data,index=None)\n",
    "df.to_csv('train_final.csv',index=False)"
   ]
  },
  {
   "cell_type": "code",
   "execution_count": null,
   "metadata": {},
   "outputs": [],
   "source": []
  }
 ],
 "metadata": {
  "kernelspec": {
   "display_name": "Python 3",
   "language": "python",
   "name": "python3"
  },
  "language_info": {
   "codemirror_mode": {
    "name": "ipython",
    "version": 3
   },
   "file_extension": ".py",
   "mimetype": "text/x-python",
   "name": "python",
   "nbconvert_exporter": "python",
   "pygments_lexer": "ipython3",
   "version": "3.8.3"
  }
 },
 "nbformat": 4,
 "nbformat_minor": 4
}
